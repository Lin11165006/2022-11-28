{
  "nbformat": 4,
  "nbformat_minor": 0,
  "metadata": {
    "colab": {
      "provenance": [],
      "collapsed_sections": [
        "rVVPOShZ-0jW"
      ]
    },
    "kernelspec": {
      "name": "python3",
      "display_name": "Python 3"
    },
    "language_info": {
      "name": "python"
    }
  },
  "cells": [
    {
      "cell_type": "markdown",
      "source": [
        "##讀取資料"
      ],
      "metadata": {
        "id": "JK-RtC8NXIN2"
      }
    },
    {
      "cell_type": "code",
      "execution_count": 80,
      "metadata": {
        "colab": {
          "base_uri": "https://localhost:8080/"
        },
        "id": "MEDTzZJJIwFZ",
        "outputId": "bb67ec69-e38c-4d95-877e-35c6a7094879"
      },
      "outputs": [
        {
          "output_type": "stream",
          "name": "stdout",
          "text": [
            "Looking in indexes: https://pypi.org/simple, https://us-python.pkg.dev/colab-wheels/public/simple/\n",
            "Requirement already satisfied: yfinance in /usr/local/lib/python3.7/dist-packages (0.1.87)\n",
            "Requirement already satisfied: multitasking>=0.0.7 in /usr/local/lib/python3.7/dist-packages (from yfinance) (0.0.11)\n",
            "Requirement already satisfied: lxml>=4.5.1 in /usr/local/lib/python3.7/dist-packages (from yfinance) (4.9.1)\n",
            "Requirement already satisfied: appdirs>=1.4.4 in /usr/local/lib/python3.7/dist-packages (from yfinance) (1.4.4)\n",
            "Requirement already satisfied: pandas>=0.24.0 in /usr/local/lib/python3.7/dist-packages (from yfinance) (1.3.5)\n",
            "Requirement already satisfied: requests>=2.26 in /usr/local/lib/python3.7/dist-packages (from yfinance) (2.28.1)\n",
            "Requirement already satisfied: numpy>=1.15 in /usr/local/lib/python3.7/dist-packages (from yfinance) (1.21.6)\n",
            "Requirement already satisfied: pytz>=2017.3 in /usr/local/lib/python3.7/dist-packages (from pandas>=0.24.0->yfinance) (2022.6)\n",
            "Requirement already satisfied: python-dateutil>=2.7.3 in /usr/local/lib/python3.7/dist-packages (from pandas>=0.24.0->yfinance) (2.8.2)\n",
            "Requirement already satisfied: six>=1.5 in /usr/local/lib/python3.7/dist-packages (from python-dateutil>=2.7.3->pandas>=0.24.0->yfinance) (1.15.0)\n",
            "Requirement already satisfied: urllib3<1.27,>=1.21.1 in /usr/local/lib/python3.7/dist-packages (from requests>=2.26->yfinance) (1.24.3)\n",
            "Requirement already satisfied: idna<4,>=2.5 in /usr/local/lib/python3.7/dist-packages (from requests>=2.26->yfinance) (2.10)\n",
            "Requirement already satisfied: charset-normalizer<3,>=2 in /usr/local/lib/python3.7/dist-packages (from requests>=2.26->yfinance) (2.1.1)\n",
            "Requirement already satisfied: certifi>=2017.4.17 in /usr/local/lib/python3.7/dist-packages (from requests>=2.26->yfinance) (2022.9.24)\n"
          ]
        }
      ],
      "source": [
        "!pip install yfinance"
      ]
    },
    {
      "cell_type": "code",
      "source": [
        "import yfinance as yf\n",
        "import pandas as pd\n",
        "import numpy as np\n",
        "from pandas.core.indexes.extension import deprecate_ndim_indexing\n",
        "\n",
        "msft = yf.Ticker(\"AAPL\")\n",
        "\n",
        "# get stock info\n",
        "msft.info\n",
        "\n",
        "# get historical market data(取得歷史資料)\n",
        "hist = msft.history(period=\"1y\") #1y = 1 year\n",
        "hist"
      ],
      "metadata": {
        "colab": {
          "base_uri": "https://localhost:8080/",
          "height": 455
        },
        "id": "qzpg7M5pI9Ut",
        "outputId": "e8bfe7f3-6c2a-41e2-e552-43e7d3c3b288"
      },
      "execution_count": 81,
      "outputs": [
        {
          "output_type": "execute_result",
          "data": {
            "text/plain": [
              "                                 Open        High         Low       Close  \\\n",
              "Date                                                                        \n",
              "2021-11-26 00:00:00-05:00  158.649250  159.524162  155.457766  155.905167   \n",
              "2021-11-29 00:00:00-05:00  158.450379  160.259884  157.873723  159.315369   \n",
              "2021-11-30 00:00:00-05:00  159.066804  164.564893  158.997201  164.346161   \n",
              "2021-12-01 00:00:00-05:00  166.513583  169.317318  163.580609  163.819229   \n",
              "2021-12-02 00:00:00-05:00  157.824041  163.252527  156.889462  162.815063   \n",
              "...                               ...         ...         ...         ...   \n",
              "2022-11-18 00:00:00-05:00  152.309998  152.699997  149.970001  151.289993   \n",
              "2022-11-21 00:00:00-05:00  150.160004  150.369995  147.720001  148.009995   \n",
              "2022-11-22 00:00:00-05:00  148.130005  150.419998  146.929993  150.179993   \n",
              "2022-11-23 00:00:00-05:00  149.449997  151.830002  149.339996  151.070007   \n",
              "2022-11-25 00:00:00-05:00  148.309998  148.880005  147.119995  148.110001   \n",
              "\n",
              "                              Volume  Dividends  Stock Splits  \n",
              "Date                                                           \n",
              "2021-11-26 00:00:00-05:00   76959800        0.0             0  \n",
              "2021-11-29 00:00:00-05:00   88748200        0.0             0  \n",
              "2021-11-30 00:00:00-05:00  174048100        0.0             0  \n",
              "2021-12-01 00:00:00-05:00  152052500        0.0             0  \n",
              "2021-12-02 00:00:00-05:00  136739200        0.0             0  \n",
              "...                              ...        ...           ...  \n",
              "2022-11-18 00:00:00-05:00   74794600        0.0             0  \n",
              "2022-11-21 00:00:00-05:00   58724100        0.0             0  \n",
              "2022-11-22 00:00:00-05:00   51804100        0.0             0  \n",
              "2022-11-23 00:00:00-05:00   58301400        0.0             0  \n",
              "2022-11-25 00:00:00-05:00   35195900        0.0             0  \n",
              "\n",
              "[252 rows x 7 columns]"
            ],
            "text/html": [
              "\n",
              "  <div id=\"df-efac7997-0648-4ce4-a0e1-74a8ca74cd07\">\n",
              "    <div class=\"colab-df-container\">\n",
              "      <div>\n",
              "<style scoped>\n",
              "    .dataframe tbody tr th:only-of-type {\n",
              "        vertical-align: middle;\n",
              "    }\n",
              "\n",
              "    .dataframe tbody tr th {\n",
              "        vertical-align: top;\n",
              "    }\n",
              "\n",
              "    .dataframe thead th {\n",
              "        text-align: right;\n",
              "    }\n",
              "</style>\n",
              "<table border=\"1\" class=\"dataframe\">\n",
              "  <thead>\n",
              "    <tr style=\"text-align: right;\">\n",
              "      <th></th>\n",
              "      <th>Open</th>\n",
              "      <th>High</th>\n",
              "      <th>Low</th>\n",
              "      <th>Close</th>\n",
              "      <th>Volume</th>\n",
              "      <th>Dividends</th>\n",
              "      <th>Stock Splits</th>\n",
              "    </tr>\n",
              "    <tr>\n",
              "      <th>Date</th>\n",
              "      <th></th>\n",
              "      <th></th>\n",
              "      <th></th>\n",
              "      <th></th>\n",
              "      <th></th>\n",
              "      <th></th>\n",
              "      <th></th>\n",
              "    </tr>\n",
              "  </thead>\n",
              "  <tbody>\n",
              "    <tr>\n",
              "      <th>2021-11-26 00:00:00-05:00</th>\n",
              "      <td>158.649250</td>\n",
              "      <td>159.524162</td>\n",
              "      <td>155.457766</td>\n",
              "      <td>155.905167</td>\n",
              "      <td>76959800</td>\n",
              "      <td>0.0</td>\n",
              "      <td>0</td>\n",
              "    </tr>\n",
              "    <tr>\n",
              "      <th>2021-11-29 00:00:00-05:00</th>\n",
              "      <td>158.450379</td>\n",
              "      <td>160.259884</td>\n",
              "      <td>157.873723</td>\n",
              "      <td>159.315369</td>\n",
              "      <td>88748200</td>\n",
              "      <td>0.0</td>\n",
              "      <td>0</td>\n",
              "    </tr>\n",
              "    <tr>\n",
              "      <th>2021-11-30 00:00:00-05:00</th>\n",
              "      <td>159.066804</td>\n",
              "      <td>164.564893</td>\n",
              "      <td>158.997201</td>\n",
              "      <td>164.346161</td>\n",
              "      <td>174048100</td>\n",
              "      <td>0.0</td>\n",
              "      <td>0</td>\n",
              "    </tr>\n",
              "    <tr>\n",
              "      <th>2021-12-01 00:00:00-05:00</th>\n",
              "      <td>166.513583</td>\n",
              "      <td>169.317318</td>\n",
              "      <td>163.580609</td>\n",
              "      <td>163.819229</td>\n",
              "      <td>152052500</td>\n",
              "      <td>0.0</td>\n",
              "      <td>0</td>\n",
              "    </tr>\n",
              "    <tr>\n",
              "      <th>2021-12-02 00:00:00-05:00</th>\n",
              "      <td>157.824041</td>\n",
              "      <td>163.252527</td>\n",
              "      <td>156.889462</td>\n",
              "      <td>162.815063</td>\n",
              "      <td>136739200</td>\n",
              "      <td>0.0</td>\n",
              "      <td>0</td>\n",
              "    </tr>\n",
              "    <tr>\n",
              "      <th>...</th>\n",
              "      <td>...</td>\n",
              "      <td>...</td>\n",
              "      <td>...</td>\n",
              "      <td>...</td>\n",
              "      <td>...</td>\n",
              "      <td>...</td>\n",
              "      <td>...</td>\n",
              "    </tr>\n",
              "    <tr>\n",
              "      <th>2022-11-18 00:00:00-05:00</th>\n",
              "      <td>152.309998</td>\n",
              "      <td>152.699997</td>\n",
              "      <td>149.970001</td>\n",
              "      <td>151.289993</td>\n",
              "      <td>74794600</td>\n",
              "      <td>0.0</td>\n",
              "      <td>0</td>\n",
              "    </tr>\n",
              "    <tr>\n",
              "      <th>2022-11-21 00:00:00-05:00</th>\n",
              "      <td>150.160004</td>\n",
              "      <td>150.369995</td>\n",
              "      <td>147.720001</td>\n",
              "      <td>148.009995</td>\n",
              "      <td>58724100</td>\n",
              "      <td>0.0</td>\n",
              "      <td>0</td>\n",
              "    </tr>\n",
              "    <tr>\n",
              "      <th>2022-11-22 00:00:00-05:00</th>\n",
              "      <td>148.130005</td>\n",
              "      <td>150.419998</td>\n",
              "      <td>146.929993</td>\n",
              "      <td>150.179993</td>\n",
              "      <td>51804100</td>\n",
              "      <td>0.0</td>\n",
              "      <td>0</td>\n",
              "    </tr>\n",
              "    <tr>\n",
              "      <th>2022-11-23 00:00:00-05:00</th>\n",
              "      <td>149.449997</td>\n",
              "      <td>151.830002</td>\n",
              "      <td>149.339996</td>\n",
              "      <td>151.070007</td>\n",
              "      <td>58301400</td>\n",
              "      <td>0.0</td>\n",
              "      <td>0</td>\n",
              "    </tr>\n",
              "    <tr>\n",
              "      <th>2022-11-25 00:00:00-05:00</th>\n",
              "      <td>148.309998</td>\n",
              "      <td>148.880005</td>\n",
              "      <td>147.119995</td>\n",
              "      <td>148.110001</td>\n",
              "      <td>35195900</td>\n",
              "      <td>0.0</td>\n",
              "      <td>0</td>\n",
              "    </tr>\n",
              "  </tbody>\n",
              "</table>\n",
              "<p>252 rows × 7 columns</p>\n",
              "</div>\n",
              "      <button class=\"colab-df-convert\" onclick=\"convertToInteractive('df-efac7997-0648-4ce4-a0e1-74a8ca74cd07')\"\n",
              "              title=\"Convert this dataframe to an interactive table.\"\n",
              "              style=\"display:none;\">\n",
              "        \n",
              "  <svg xmlns=\"http://www.w3.org/2000/svg\" height=\"24px\"viewBox=\"0 0 24 24\"\n",
              "       width=\"24px\">\n",
              "    <path d=\"M0 0h24v24H0V0z\" fill=\"none\"/>\n",
              "    <path d=\"M18.56 5.44l.94 2.06.94-2.06 2.06-.94-2.06-.94-.94-2.06-.94 2.06-2.06.94zm-11 1L8.5 8.5l.94-2.06 2.06-.94-2.06-.94L8.5 2.5l-.94 2.06-2.06.94zm10 10l.94 2.06.94-2.06 2.06-.94-2.06-.94-.94-2.06-.94 2.06-2.06.94z\"/><path d=\"M17.41 7.96l-1.37-1.37c-.4-.4-.92-.59-1.43-.59-.52 0-1.04.2-1.43.59L10.3 9.45l-7.72 7.72c-.78.78-.78 2.05 0 2.83L4 21.41c.39.39.9.59 1.41.59.51 0 1.02-.2 1.41-.59l7.78-7.78 2.81-2.81c.8-.78.8-2.07 0-2.86zM5.41 20L4 18.59l7.72-7.72 1.47 1.35L5.41 20z\"/>\n",
              "  </svg>\n",
              "      </button>\n",
              "      \n",
              "  <style>\n",
              "    .colab-df-container {\n",
              "      display:flex;\n",
              "      flex-wrap:wrap;\n",
              "      gap: 12px;\n",
              "    }\n",
              "\n",
              "    .colab-df-convert {\n",
              "      background-color: #E8F0FE;\n",
              "      border: none;\n",
              "      border-radius: 50%;\n",
              "      cursor: pointer;\n",
              "      display: none;\n",
              "      fill: #1967D2;\n",
              "      height: 32px;\n",
              "      padding: 0 0 0 0;\n",
              "      width: 32px;\n",
              "    }\n",
              "\n",
              "    .colab-df-convert:hover {\n",
              "      background-color: #E2EBFA;\n",
              "      box-shadow: 0px 1px 2px rgba(60, 64, 67, 0.3), 0px 1px 3px 1px rgba(60, 64, 67, 0.15);\n",
              "      fill: #174EA6;\n",
              "    }\n",
              "\n",
              "    [theme=dark] .colab-df-convert {\n",
              "      background-color: #3B4455;\n",
              "      fill: #D2E3FC;\n",
              "    }\n",
              "\n",
              "    [theme=dark] .colab-df-convert:hover {\n",
              "      background-color: #434B5C;\n",
              "      box-shadow: 0px 1px 3px 1px rgba(0, 0, 0, 0.15);\n",
              "      filter: drop-shadow(0px 1px 2px rgba(0, 0, 0, 0.3));\n",
              "      fill: #FFFFFF;\n",
              "    }\n",
              "  </style>\n",
              "\n",
              "      <script>\n",
              "        const buttonEl =\n",
              "          document.querySelector('#df-efac7997-0648-4ce4-a0e1-74a8ca74cd07 button.colab-df-convert');\n",
              "        buttonEl.style.display =\n",
              "          google.colab.kernel.accessAllowed ? 'block' : 'none';\n",
              "\n",
              "        async function convertToInteractive(key) {\n",
              "          const element = document.querySelector('#df-efac7997-0648-4ce4-a0e1-74a8ca74cd07');\n",
              "          const dataTable =\n",
              "            await google.colab.kernel.invokeFunction('convertToInteractive',\n",
              "                                                     [key], {});\n",
              "          if (!dataTable) return;\n",
              "\n",
              "          const docLinkHtml = 'Like what you see? Visit the ' +\n",
              "            '<a target=\"_blank\" href=https://colab.research.google.com/notebooks/data_table.ipynb>data table notebook</a>'\n",
              "            + ' to learn more about interactive tables.';\n",
              "          element.innerHTML = '';\n",
              "          dataTable['output_type'] = 'display_data';\n",
              "          await google.colab.output.renderOutput(dataTable, element);\n",
              "          const docLink = document.createElement('div');\n",
              "          docLink.innerHTML = docLinkHtml;\n",
              "          element.appendChild(docLink);\n",
              "        }\n",
              "      </script>\n",
              "    </div>\n",
              "  </div>\n",
              "  "
            ]
          },
          "metadata": {},
          "execution_count": 81
        }
      ]
    },
    {
      "cell_type": "code",
      "source": [
        "# 設定 V0=平均值\n",
        "V0 = hist[\"Volume\"].mean() "
      ],
      "metadata": {
        "id": "0DVgYlCuI9eg"
      },
      "execution_count": 82,
      "outputs": []
    },
    {
      "cell_type": "code",
      "source": [
        "hist['Date'] = hist.index #將index 移到 Columns\n",
        "data = hist[[\"Close\", \"Volume\", \"Date\"]] #收盤價格， 交易量， 交易日期"
      ],
      "metadata": {
        "id": "2JPybM2gI9hV"
      },
      "execution_count": 83,
      "outputs": []
    },
    {
      "cell_type": "code",
      "source": [
        "ddate = list(hist[[\"Date\"]].iloc[:, 0]) # 交易日期\n",
        "close = list(hist[[\"Close\"]].iloc[:, 0]) # 收盤價格\n",
        "volume = list(hist[[\"Volume\"]].iloc[:, 0]) # 成交量"
      ],
      "metadata": {
        "id": "WI28S2g9Z_f3"
      },
      "execution_count": 84,
      "outputs": []
    },
    {
      "cell_type": "code",
      "source": [
        "data.shape"
      ],
      "metadata": {
        "colab": {
          "base_uri": "https://localhost:8080/"
        },
        "id": "lz33uPPuI9nf",
        "outputId": "9233d492-eced-4bef-e2d8-3284e6b03b99"
      },
      "execution_count": 85,
      "outputs": [
        {
          "output_type": "execute_result",
          "data": {
            "text/plain": [
              "(252, 3)"
            ]
          },
          "metadata": {},
          "execution_count": 85
        }
      ]
    },
    {
      "cell_type": "markdown",
      "source": [
        "# ![未命名.png](data:image/png;base64,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)"
      ],
      "metadata": {
        "id": "rVVPOShZ-0jW"
      }
    },
    {
      "cell_type": "code",
      "source": [
        "# Vk+(Vk+1)+...+Vn\n",
        "data[\"Volume\"].sum() "
      ],
      "metadata": {
        "colab": {
          "base_uri": "https://localhost:8080/"
        },
        "id": "kVmSG9xrI9kG",
        "outputId": "e56d1c20-42da-45e1-8f13-3ef047623d68"
      },
      "execution_count": 86,
      "outputs": [
        {
          "output_type": "execute_result",
          "data": {
            "text/plain": [
              "22909696400"
            ]
          },
          "metadata": {},
          "execution_count": 86
        }
      ]
    },
    {
      "cell_type": "code",
      "source": [
        "## Vk+(Vk+1)+...+Vn\n",
        "\n",
        "print(data.iloc[0, 1])  #第一筆\"\"Volume\"\n",
        "print(data.iloc[-1, 1])  #最後一筆\"Volume\"\n",
        "print(data.iloc[data.shape[0]-1, 1])  #data.shape[0]-1 = (252-1) , 1 = 第一列(總共有0、1列)\n",
        "s_sum = 0\n",
        "for i in range(0, data.shape[0]):\n",
        "  s_sum = s_sum + data.iloc[i, 1]\n",
        "print(s_sum)"
      ],
      "metadata": {
        "colab": {
          "base_uri": "https://localhost:8080/"
        },
        "id": "xIjm1hVqJRRR",
        "outputId": "64d9c1da-0e4b-4e6f-c8eb-61e67adf1bc9"
      },
      "execution_count": 87,
      "outputs": [
        {
          "output_type": "stream",
          "name": "stdout",
          "text": [
            "76959800\n",
            "35195900\n",
            "35195900\n",
            "22909696400\n"
          ]
        }
      ]
    },
    {
      "cell_type": "code",
      "source": [
        "# for j in range(0, data.shape[0]):\n",
        "#   print( int(data.iloc[j, 0]), int(data.iloc[j, 1]))\n",
        "# if(s_sum < V0):\n",
        "print(data.iloc[251, 0]- data.iloc[0, 0]) #最後一筆-第一筆"
      ],
      "metadata": {
        "colab": {
          "base_uri": "https://localhost:8080/"
        },
        "id": "r8HJlW1CJRUG",
        "outputId": "a1db70b5-2f4a-48cf-98a0-ba226ef0a782"
      },
      "execution_count": 88,
      "outputs": [
        {
          "output_type": "stream",
          "name": "stdout",
          "text": [
            "-7.795166015625\n"
          ]
        }
      ]
    },
    {
      "cell_type": "markdown",
      "source": [
        "#![image.png](data:image/png;base64,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)"
      ],
      "metadata": {
        "id": "wEFjoFQwz9cf"
      }
    },
    {
      "cell_type": "code",
      "source": [
        "s_diff = []\n",
        "s_date = []\n",
        "\n",
        "for n in range(0, data.shape[0]):\n",
        "\n",
        "  v_sum=0\n",
        "\n",
        "  for j in range(n, 0, -1):\n",
        "    \n",
        "    v_sum=0\n",
        "\n",
        "    if (v_sum < V0):\n",
        "      v_sum = v_sum + data.iloc[j, 1]\n",
        "      s_diff.append(data['Close'].iloc[n] - data['Close'].iloc[j])\n",
        "      # s_date.append(data['Data'][data.index(max(data['Close'])), data.index(min(data['Close'])))\n",
        "      s_date.append([(ddate[(close.index(max(close)))]), (ddate[(close.index(min(close)))])])\n",
        "\n",
        "    else:\n",
        "      v_sum = 0\n",
        "      break\n",
        "print(max(s_diff))\n",
        "print(s_date[0])"
      ],
      "metadata": {
        "id": "eXpJME7RJRXE",
        "colab": {
          "base_uri": "https://localhost:8080/"
        },
        "outputId": "a11e7fd2-0b36-4581-d72a-7f165e5844a6"
      },
      "execution_count": 89,
      "outputs": [
        {
          "output_type": "stream",
          "name": "stdout",
          "text": [
            "44.596435546875\n",
            "[Timestamp('2022-01-03 00:00:00-0500', tz='America/New_York'), Timestamp('2022-06-16 00:00:00-0400', tz='America/New_York')]\n"
          ]
        }
      ]
    },
    {
      "cell_type": "code",
      "source": [
        "data['Close'].plot()"
      ],
      "metadata": {
        "id": "eONpzxTPRYxP",
        "colab": {
          "base_uri": "https://localhost:8080/",
          "height": 295
        },
        "outputId": "aeb3945d-6f94-4d67-9265-cf54f316b15b"
      },
      "execution_count": 90,
      "outputs": [
        {
          "output_type": "execute_result",
          "data": {
            "text/plain": [
              "<matplotlib.axes._subplots.AxesSubplot at 0x7fd1a74f76d0>"
            ]
          },
          "metadata": {},
          "execution_count": 90
        },
        {
          "output_type": "display_data",
          "data": {
            "text/plain": [
              "<Figure size 432x288 with 1 Axes>"
            ],
            "image/png": "[encoded data removed]"
          },
          "metadata": {
            "needs_background": "light"
          }
        }
      ]
    },
    {
      "cell_type": "code",
      "source": [
        "print(data['Close'].max()) #最高收盤價\n",
        "print(data['Close'].min()) #最低收盤價\n",
        "print((data['Close'].max())-(data['Close'].min())) #最大價差"
      ],
      "metadata": {
        "id": "720UBQyqSbfK",
        "colab": {
          "base_uri": "https://localhost:8080/"
        },
        "outputId": "95e4a724-0717-4612-88cf-6e471f72bbd1"
      },
      "execution_count": 91,
      "outputs": [
        {
          "output_type": "stream",
          "name": "stdout",
          "text": [
            "180.95974731445312\n",
            "129.66448974609375\n",
            "51.295257568359375\n"
          ]
        }
      ]
    }
  ]
}